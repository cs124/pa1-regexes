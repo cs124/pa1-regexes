{
 "cells": [
  {
   "cell_type": "markdown",
   "metadata": {},
   "source": [
    "# Programming Assignment 1: Spamlord\n",
    "\n",
    "This assignment is your chance to become a Dark Lord of spam email! Yes, you too\n",
    "can build regexes to spread evil throughout the galaxy.\n",
    "\n",
    "Our goal in this assignment is to use regular expressions\n",
    "to extract phone numbers and email addresses from documents found on\n",
    "the web. If you really were a malicious actor, you could then use these\n",
    "extracted addresses to bombard unsuspecting victims with spam!\n",
    "\n",
    "Of course, we would never do anything nefarious like that in 124. Instead,\n",
    "our goal will be to gain some experience with regular expressions (regexes)."
   ]
  },
  {
   "cell_type": "markdown",
   "metadata": {},
   "source": [
    "## What we're trying to do\n",
    "\n",
    "To make things a little more concrete, here are some examples to illustrate\n",
    "exactly what your implementation should be able to do if it's working correctly.\n",
    "\n",
    "### Extracting Phone Numbers\n",
    "\n",
    "Your program should be able to process text that looks like the examples shown\n",
    "on the left, and extract the phone number on the right (note that we want\n",
    "the result in a standardized form).\n",
    "\n",
    "```\n",
    "# Various formats\n",
    "Phone:  (650) 723-0293 =>  650-723-0293\n",
    "Tel (+1): 650-723-0293 =>  650-723-0293\n",
    "\n",
    "# HTML Markup\n",
    "<a href=\"contact.html\">TEL</a> +1&thinsp;650&thinsp;723&thinsp;0293 => 650-723-0293\n",
    "```\n",
    "__NOTE:__ You can assume we are only working with North American phone numbers,\n",
    "so all numbers will be of the form: [3 digit area code]-[3 digits]-[4 digits].\n",
    "\n",
    "__NOTE:__ Your solution may also extract fax numbers, which look exactly like\n",
    "phone numbers. This is fine, you're not expected to distinguish between\n",
    "the two.\n",
    "\n",
    "### Extracting Email Addresses\n",
    "\n",
    "Similarly to the phone numbers, we are also interested in processing text\n",
    "containing (possibly obfuscated) email addresses and returning the corresponding\n",
    "email addresses in a standard form.\n",
    "\n",
    "```\n",
    "# Ordinary email addresses\n",
    "manning@cs.stanford.edu => manning@cs.stanford.edu\n",
    "\n",
    "# Obfuscated email addresses\n",
    "manning(at)cs.stanford.edu => manning@cs.stanford.edu\n",
    "manning at csli dot stanford dot edu => manning@csli.stanford.edu\n",
    "\n",
    "# Email addresses hidden using HTML/JavaScript (this is a very tricky one)\n",
    "<script type=\"text/javascript\">obfuscate('stanford.edu','manning')</script> => manning@stanford.edu\n",
    "```\n",
    "\n",
    "### Cases you won't have to worry about\n",
    "\n",
    "Although you should aim to make your regexes as powerful and general-purpose as\n",
    "you possibly can, there are some cases that are difficult or impossible to\n",
    "handle with regexes and which we don't expect you to be able to deal with.\n",
    "\n",
    "These include:\n",
    "\n",
    "* Anything involving images or other non-text ways of displaying emails or phone\n",
    "numbers\n",
    "* Examples that require parsing names into parts, like:\n",
    "\n",
    "```\n",
    "\"first name\"@cs.stanford.edu\n",
    "```\n",
    "\n",
    "* Particularly clever/difficult examples that don't contain much or any\n",
    "part of the actual email address. For example,\n",
    "\n",
    "```\n",
    "To send me email, try the simplest address that makes sense.\n",
    "```"
   ]
  },
  {
   "cell_type": "markdown",
   "metadata": {},
   "source": [
    "## Testing and Evaluation\n",
    "\n",
    "Before you get started, here's some info about how your\n",
    "implementation will be tested and evaluated.\n",
    "\n",
    "### Some General Comments on Evaluation\n",
    "\n",
    "In order to make your life easier on this (and future) homeworks, we will be\n",
    "giving you some data to test your code on, which we call a\n",
    "_development set_. Using a development set to test and evaluate your methods\n",
    "is an extremely common approach in natural language processing and machine\n",
    "learning. More generally, coming up with a robust set of test cases to\n",
    "evaluate your work against is also an extremely important part of writing\n",
    "good code.\n",
    "\n",
    "In this case, our development set is a bunch of HTML documents (the personal\n",
    "homepages of some Stanford CS professors) that we've scraped from the web and\n",
    "downloaded for you. If you're not familiar with the details of HTML or its\n",
    "syntax, that's fine. For the purposes of this assignment, all you need to know\n",
    "is that the inputs are text files (with some formatting) that contain the\n",
    "(possibly obfuscated) emails and phone numbers that we want to extract. You can\n",
    "find all of these HTML documents in the ```data/dev``` folder.\n",
    "\n",
    "In addition to the HTML documents, the ```data``` directory also contains\n",
    "another file, ```data/devGOLD```. You can think of this file as the answer key\n",
    "corresponding to the documents in ```data/dev```. It contains all the\n",
    "correctly extracted phone numbers and emails from all the documents in\n",
    "```data/dev```, in a particular format so your scripts (and our grading scripts)\n",
    "can read them easily. The format is as follows:\n",
    "\n",
    "### Format of Matches\n",
    "\n",
    "Each line in the ```data/devGOLD``` file represents one extracted email address\n",
    "or phone number in the form of a 3-tuple. Each tuple is represented as 3 strings\n",
    "separated by vertical bars (\"|\"):\n",
    "\n",
    "```\n",
    "jurafsky|e|jurafsky@stanford.edu\n",
    "```\n",
    "\n",
    "The first string is the name of the file that\n",
    "the match came from (with the \".html\" extension removed).\n",
    "\n",
    "The second string is an 'e' if the match was an email address, or a\n",
    "'p' if it was a phone number.\n",
    "\n",
    "The third string is the actual extracted email address or phone number itself,\n",
    "in the following standard form:\n",
    "\n",
    "```\n",
    "  user@example.com\n",
    "  650-555-1234\n",
    "```\n",
    "\n",
    "To sum up, the answers in the ```data/devGOLD``` file and the outputs\n",
    "generated by your implementation should take the form of Python tuples\n",
    "that look like:\n",
    "\n",
    "```\n",
    "  (filename, match type, match value)\n",
    "```\n",
    "\n",
    "__NOTE:__ You don't have to worry about case sensitivity in your values\n",
    "(email addresses or phone numbers), since they will be normalized to lower case\n",
    "before being compared with the answers.\n",
    "\n",
    "### Scoring\n",
    "\n",
    "Your grade will consist of three parts, totalling 25 points.\n",
    "\n",
    "The first, worth 16 points, scores how well your implementation does on the\n",
    "development set. For these examples you're given the correct answers,\n",
    "so you should aim get 100% of them correct!\n",
    "\n",
    "The second part of your grade, worth 8 points, will be based on how well your\n",
    "regular expressions find emails and phone numbers in a different set of\n",
    "examples, the test set. This test set is hidden and only the teaching staff\n",
    "knows what is in it! Because you don't know exactly what trickery goes on in\n",
    "this test set, you should be creative in thinking of different ways of writing\n",
    "(and hiding) emails and phone numbers.\n",
    "\n",
    "The third part is a brief section worth 1 point designed to get you thinking about ethical issues surrounding spam emails.\n",
    "\n",
    "You're not expected to perform perfectly on the test set as you don't know\n",
    "what is in it, or have the correct answers (just like in real life). As long as\n",
    "you manage to achieve some reasonable performance (compared to a benchmark that\n",
    "we provide), you'll get full points! The benchmark is set at 65 test errors or\n",
    "fewer.\n",
    "\n",
    "Normally, we would hide your test set performance so you can't tune your methods\n",
    "to maximize test set performance (this is good experimental procedure).\n",
    "However, in the interests of transparency and making your life easier, we'll\n",
    "show you your test score and number of test errors on Gradescope so you can get\n",
    "an idea of how close you are to the benchmark and full points.\n",
    "\n",
    "You're free to submit as many times as you'd like on Gradescope until you hit\n",
    "the benchmark. If you beat the benchmark, you can also submit your\n",
    "best-performing solution to the Gradescope leaderboard to see how you stack up\n",
    "against your classmates (although you won't get any extra points above 24).\n",
    "\n",
    "Here are the equations we use to calculate the scores for the two parts, where\n",
    "`e` is the total number of errors (false negatives and false positives) for\n",
    "each part:\n",
    "\n",
    "__Dev:__\n",
    "\n",
    "```\n",
    "  if e < 10 then score(e) = 16 - e\n",
    "  else if e >= 10 then score(e) = 6\n",
    "```\n",
    "\n",
    "__Test:__\n",
    "\n",
    "```\n",
    "  if e <= 65      then score(e) = 8\n",
    "  else if 65 < e  then score(e) = 8 - (e - 65) * 0.2\n",
    "```\n",
    "\n",
    "__Note:__ This sort of two-stage evaluation (a known development set and a\n",
    "hidden test set) is a very commonly used approach in machine learning!\n",
    "Evaluating on a development set where we have the \"right\" answers lets us\n",
    "measure our performance precisely and improve our approach, while a test set\n",
    "that is hidden from us until later allows us to see how we perform\n",
    "\"out in the wild\", on examples that we might not have been able to tailor\n",
    "our methods to.\n",
    "\n",
    "### Checking your Dev Set Performance\n",
    "\n",
    "We provide a function, named `score()` for you to conveniently check your\n",
    "performance on the development set as you work. It takes in a list of your\n",
    "predicted matches (the output of the function you'll write) and a list of\n",
    "correct/gold matches, read from the `data/devGOLD` file.\n",
    "\n",
    "It compares the two and calculates how they overlap, printing out a\n",
    "bunch of information in the following form:\n",
    "\n",
    "```\n",
    "  True Positives (4):\n",
    "  set([('balaji', 'e', 'balaji@stanford.edu'),\n",
    "       ('nass', 'e', 'nass@stanford.edu'),\n",
    "       ('shoham', 'e', 'shoham@stanford.edu'),\n",
    "       ('thm', 'e', 'pkrokel@stanford.edu')])\n",
    "  False Positives (1):\n",
    "  set([('psyoung', 'e', 'young@stanford.edu')])\n",
    "  False Negatives (113):\n",
    "  set([('ashishg', 'e', 'ashishg@stanford.edu'),\n",
    "       ('ashishg', 'e', 'rozm@stanford.edu'),\n",
    "       ('ashishg', 'p', '650-723-1614'),\n",
    "       ('ashishg', 'p', '650-723-4173'),\n",
    "       ('ashishg', 'p', '650-814-1478'),\n",
    "  ...\n",
    "```\n",
    "\n",
    "The true positive section displays e-mails and phone numbers which are in\n",
    "both your list of matches and the gold matches list. These are examples\n",
    "that your regexes correctly found.\n",
    "\n",
    "The false positive section displays matches which\n",
    "your regular expressions extracted but which are not in the gold matches list.\n",
    "These are incorrect and show where your method may have been too\n",
    "broad/aggressive.\n",
    "\n",
    "The false negative section displays e-mails and phone numbers which your code\n",
    "did not match, but which do exist in the html files. These are the matches your\n",
    "code missed.\n",
    "\n",
    "Your goal, then, is to reduce the number of false positives and false negatives\n",
    "to zero. At the bottom of the output you can see the total counts of true\n",
    "positives, false positives, and false negatives."
   ]
  },
  {
   "cell_type": "markdown",
   "metadata": {},
   "source": [
    "## Submitting your Solution\n",
    "\n",
    "__IMPORTANT:__ Before you submit, make sure your code works in an environment\n",
    "set up using Python 3.8 and the environment file and setup we provided\n",
    "(and no other dependencies), as this is the\n",
    "environment our autograder will be run on.\n",
    "\n",
    "Submit your assignment\n",
    "via [Gradescope (www.gradescope.com)](http://www.gradescope.com).\n",
    "You can create a submission with the files below, and it will run the\n",
    "remaining grading with the starter code.\n",
    "We expect the following files in your final submission:\n",
    "\n",
    "```\n",
    "pa1.ipynb (do not alter the filename)\n",
    "```\n",
    "\n",
    "If your solution depends on other files, please put those files in a folder\n",
    "named `deps/` (this folder should be on the same level as `pa1.ipynb`)\n",
    "and upload a zip file (any name is fine) containing this folder and\n",
    "`pa1.ipynb` to submit on Gradescope.\n",
    "Gradescope will then automatically unzip the folder so that your\n",
    "submission contains:\n",
    "\n",
    "```\n",
    "deps/\n",
    "pa1.ipynb\n",
    "```"
   ]
  },
  {
   "cell_type": "markdown",
   "metadata": {},
   "source": [
    "## Frequently Asked Questions\n",
    "\n",
    "\n",
    "__Q:__ Where should I be writing my Python code?\n",
    "\n",
    "__A:__ The only place you should need to write code in this assignment is\n",
    "the function `process_file(filename, data_directory)`.\n",
    "\n",
    "```\n",
    "  def process_file(filename, data_directory):\n",
    "```\n",
    "\n",
    "It's been marked for you with a \"TODO\". This function takes\n",
    "in a filename of a text file as a string and the path to the directory\n",
    " where the file is located, also as a string. It returns a list of tuples\n",
    "representing e-mails or phone numbers found in that file. See the section above\n",
    "about \"Some General Comments on Evaluation\" for a detailed description of the\n",
    "output tuple format.\n",
    "\n",
    "__Q:__ What version of Python should I use? How should I set up my dependencies?\n",
    "\n",
    "__A:__ In this class, we will be using Python 3.8.5. Please see the README file\n",
    "in the Github repository (and available on Canvas) for instructions on\n",
    "how to set up your environment.\n",
    "\n",
    "__Q:__ What format should the phone numbers and e-mails have?\n",
    "__A:__ The canonical forms we expect are:\n",
    "\n",
    "```\n",
    "  user@example.com\n",
    "  650-555-1234\n",
    "```\n",
    "\n",
    "The case of the e-mails you find should not matter because the starter code\n",
    "and the grading code will lowercase your matched e-mails before comparing\n",
    "them against the gold set."
   ]
  },
  {
   "cell_type": "markdown",
   "metadata": {},
   "source": [
    "## Some Tips before you start:\n",
    "\n",
    "* Although the phone number and email portions of the assignment are totally\n",
    "independent and can be done in any order you'd like, we recommend starting with\n",
    "phone numbers, as they are simpler and a good warm-up for the email regexes!\n",
    "* If you need a refresher on Python or Jupyter notebooks (or you're new to\n",
    "either of them), we strongly encourage taking a look at PA0 first.\n",
    "Referring back to it as you work might help if you run into any issues with\n",
    "Python syntax or idioms."
   ]
  },
  {
   "cell_type": "markdown",
   "metadata": {},
   "source": [
    "### Environment Check\n",
    "\n",
    "Before we do anything else, let's quickly check that you're running the correct\n",
    "version of Python and are in the right environment!"
   ]
  },
  {
   "cell_type": "code",
   "execution_count": null,
   "metadata": {
    "pycharm": {
     "name": "#%%\n"
    }
   },
   "outputs": [],
   "source": [
    "import os\n",
    "assert os.environ['CONDA_DEFAULT_ENV'] == \"cs124\"\n",
    "\n",
    "import sys\n",
    "assert sys.version_info.major == 3 and sys.version_info.minor == 8"
   ]
  },
  {
   "cell_type": "markdown",
   "metadata": {},
   "source": [
    "If the above cell complains, it means that you're using the wrong environment\n",
    "or Python version!\n",
    "\n",
    "If so, please exit this notebook, kill the notebook server with CTRL-C, and\n",
    "try running\n",
    "\n",
    "$ conda activate cs124\n",
    "\n",
    "then restarting your notebook server with\n",
    "\n",
    "$ jupyter notebook\n",
    "\n",
    "If that doesn't work, you should go back and follow the installation\n",
    "instructions in PA0."
   ]
  },
  {
   "cell_type": "markdown",
   "metadata": {
    "pycharm": {
     "name": "#%% md\n"
    }
   },
   "source": [
    "## Getting Started!\n",
    "\n",
    "Alright, let's extract some emails and phone numbers!\n",
    "\n",
    "First we'll download some extra files that we need, if we don't already have them:"
   ]
  },
  {
   "cell_type": "code",
   "execution_count": null,
   "metadata": {
    "pycharm": {
     "name": "#%%\n"
    },
    "tags": [
     "exploration"
    ]
   },
   "outputs": [],
   "source": [
    "%%bash\n",
    "\n",
    "if [[ ! -d \"./data\" ]]\n",
    "then\n",
    "    echo \"Missing extra files (this probably means you're running on Google Colab). Downloading...\"\n",
    "    git clone https://github.com/cs124/pa1-spamlord.git\n",
    "    cp -r ./pa1-spamlord/{data,deps,util.py} .\n",
    "fi"
   ]
  },
  {
   "cell_type": "markdown",
   "metadata": {
    "pycharm": {
     "name": "#%% md\n"
    }
   },
   "source": [
    "Next, we'll need to import some modules that we'll need later.\n",
    "\n",
    "__NOTE: Do NOT import and use any other packages outside of the Python standard\n",
    "library. Although we provide NumPy, Scikit-Learn, and other packages in\n",
    "the conda environment we set up for you, you will not be using them in PA1, only\n",
    "in later assignments. Importing them in your solution will cause it to fail the\n",
    "autograder.__"
   ]
  },
  {
   "cell_type": "code",
   "execution_count": null,
   "metadata": {
    "pycharm": {
     "name": "#%%\n"
    }
   },
   "outputs": [],
   "source": [
    "# For opening files and manipulating file paths\n",
    "from io import open\n",
    "import os\n",
    "\n",
    "# For regular expressions\n",
    "import re\n",
    "\n",
    "# Helper functions we'll use later\n",
    "from util import process_dir, get_gold, score\n"
   ]
  },
  {
   "cell_type": "markdown",
   "metadata": {},
   "source": [
    "Now, let's take a look at what our data actually looks like. This should always\n",
    "be one of the first things you do whenever you're solving a problem that\n",
    "requires working with data.\n",
    "\n",
    "All of the data in our development set is found in files in the data/dev\n",
    "directory. Each one is an HTML file scraped from a CS faculty webpage.\n",
    "\n",
    "To visualize them, you can take any of the files and open them in a browser of\n",
    "your choice! For example, by right-clicking on `data/dev/dabo.html` and\n",
    "clicking `open with -> Google Chrome`.\n",
    "\n",
    "Feel free to change the filename to some of the other files in data/dev\n",
    "(i.e. dabo to aiken, balaji, etc.) to take a look at some of the other\n",
    "faculty pages. This is also one way to explore some of the different formats\n",
    "that are used for email and phone numbers and start thinking of some ideas for\n",
    "how to write your regular expressions."
   ]
  },
  {
   "cell_type": "markdown",
   "metadata": {
    "pycharm": {
     "name": "#%% md\n"
    }
   },
   "source": [
    "You should find that, as expected, it looks exactly like a\n",
    "faculty webpage (possibly minus some images which we didn't download along\n",
    "with the HTML, but that's fine, as we're mostly interested in the text).\n",
    "\n",
    "As is common for faculty pages, these pages have contact information like email\n",
    "addresses and phone numbers. Our goal is to write regular expressions\n",
    "that we can use to automatically match and extract these from the webpages."
   ]
  },
  {
   "cell_type": "markdown",
   "metadata": {
    "pycharm": {
     "name": "#%% md\n"
    }
   },
   "source": [
    "Now we've seen what the files look like as webpages. However, for our\n",
    " purposes we're interested in the text contents, as that's what we'll\n",
    "be matching with our regular expressions.\n",
    "\n",
    "Let's try reading in the same file as a single giant text string:"
   ]
  },
  {
   "cell_type": "code",
   "execution_count": null,
   "metadata": {
    "pycharm": {
     "name": "#%%\n"
    },
    "tags": [
     "exploration"
    ]
   },
   "outputs": [],
   "source": [
    "# Open and read a file as a gigantic string\n",
    "with open(\"data/dev/dabo.html\", 'r', encoding='ISO-8859-1') as file:\n",
    "    all_txt = file.read()\n",
    "    print(all_txt)"
   ]
  },
  {
   "cell_type": "markdown",
   "metadata": {},
   "source": [
    "Okay, it's a bit long and hard to parse, but it seems reasonable!\n",
    "There's a bunch of somewhat cluttered HTML markup,\n",
    "but it's all in text form and if we search through it, it looks like all of the\n",
    "text from the page (including the emails and phone numbers!) is somewhere in\n",
    "there."
   ]
  },
  {
   "cell_type": "markdown",
   "metadata": {
    "pycharm": {
     "name": "#%% md\n"
    }
   },
   "source": [
    "Now the interesting part: For each line,\n",
    "instead of just reading and printing it,\n",
    "let's try to find matches for a regular expression\n",
    "that we provide, and extract those matches as emails.\n",
    "\n",
    "In this case we'll use a super-simple pattern that just looks for 1 or more\n",
    "alphanumeric characters or periods followed by an '@' followed by 1 or more\n",
    "alphanumeric characters or periods, followed by '.edu'. This is just the usual\n",
    "format of an email address.\n",
    "\n",
    "__WARNING:__ Note that we strip the \".html\" extensions from our\n",
    "filenames when outputting our matches! This is important, as if you\n",
    "don't do this your output format won't match the required one. You can\n",
    "see the format for yourself in the data/devGOLD file.\n",
    "\n",
    "Let's wrap that all together in a function and give it a whirl:"
   ]
  },
  {
   "cell_type": "code",
   "execution_count": null,
   "metadata": {
    "pycharm": {
     "name": "#%%\n"
    },
    "tags": [
     "exploration"
    ]
   },
   "outputs": [],
   "source": [
    "def example_process_file(filename: str, data_directory: str):\n",
    "    \"\"\"\n",
    "    An example function we wrote to scan through a single file and return\n",
    "    all the strings matching a simple hardcoded pattern.\n",
    "\n",
    "    f will be an object satisfying the StringIO interface.\n",
    "    You don't need to know the details of exactly what that entails, except\n",
    "    that for your purposes f will always be a file object.\n",
    "    \"\"\"\n",
    "\n",
    "    # This is the pattern we're trying to match\n",
    "    # Note the use of two capture clauses, one before the '@' and one after the\n",
    "    # '@'.\n",
    "    simple_pattern = '([\\w\\.]+)@([\\w\\.]+.edu)'\n",
    "\n",
    "    # The format of our matches requires stripping the \".html\" extension\n",
    "    # from our filenames\n",
    "    filename_no_ext = filename.split('.')[0]\n",
    "    res = []\n",
    "    for l in open(\n",
    "            os.path.join(data_directory, filename),\n",
    "            'r', encoding='ISO-8859-1'):\n",
    "\n",
    "        # This function takes a regex pattern and a text string and returns\n",
    "        # all matches in the string as a list\n",
    "        # Each match in the list is a tuple of the capture groups in the\n",
    "        # expression. So in this case, each element in matches will be a tuple\n",
    "        # of form (stuff before '@', stuff after '@').\n",
    "        matches = re.findall(simple_pattern, l)\n",
    "        for m in matches:\n",
    "            # Put the email back together\n",
    "            email = '%s@%s' % m\n",
    "            res.append((filename_no_ext, 'e', email))\n",
    "\n",
    "    return res"
   ]
  },
  {
   "cell_type": "code",
   "execution_count": null,
   "metadata": {
    "pycharm": {
     "name": "#%%\n"
    },
    "tags": [
     "exploration"
    ]
   },
   "outputs": [],
   "source": [
    "result = example_process_file('dabo.html', 'data/dev')\n",
    "print(result)"
   ]
  },
  {
   "cell_type": "markdown",
   "metadata": {
    "pycharm": {
     "name": "#%% md\n"
    }
   },
   "source": [
    "Success! It looks like we got our first match! The output of our function in\n",
    "this case is a list of matches, where each match is a tuple of\n",
    "(file, 'e' or 'p' indicating email or phone number, extracted email or\n",
    "phone number). The reason we want our output in this format is so that it works\n",
    "with our automated evaluation later.\n",
    "\n",
    "In this case we can see that we have just a single match from the\n",
    "file data/dev/dabo (note that we only searched in this one file!) which is\n",
    "an email and is the address 'dabo@cs.stanford.edu'."
   ]
  },
  {
   "cell_type": "markdown",
   "metadata": {
    "pycharm": {
     "name": "#%% md\n"
    }
   },
   "source": [
    "Okay, so we've seen how we can process a single file. However, our dev\n",
    "set consists of many such files. We need a function to loop over all of them,\n",
    "process them, and return all the extracted addresses.\n",
    "\n",
    "This function is provided for you in util.py! You will not need to modify it,\n",
    "but we encourage you to take a look at how it is implemented.\n",
    "\n",
    "Here's what happens when we run it:"
   ]
  },
  {
   "cell_type": "code",
   "execution_count": null,
   "metadata": {
    "pycharm": {
     "name": "#%%\n"
    },
    "tags": [
     "exploration"
    ]
   },
   "outputs": [],
   "source": [
    "all_results = process_dir('data/dev', example_process_file)\n",
    "\n",
    "print(all_results)"
   ]
  },
  {
   "cell_type": "markdown",
   "metadata": {
    "pycharm": {
     "name": "#%% md\n"
    }
   },
   "source": [
    "Looks like we got quite a few more matches, even with our very simple pattern.\n",
    "\n",
    "You may have also noticed that our results have quite a few duplicates. If you\n",
    "examine the corresponding files, you can see that this is happening because\n",
    "the same email address (or phone number) appears more than once in the file.\n",
    "\n",
    "Don't worry about this for now, we'll be careful to strip out duplicates later\n",
    "when we're doing our evaluation."
   ]
  },
  {
   "cell_type": "markdown",
   "metadata": {
    "pycharm": {
     "name": "#%% md\n"
    }
   },
   "source": [
    "Speaking of evaluation, before you go on to implement your own method let's\n",
    "finish up by showing you the evaluation setup.\n",
    "\n",
    "The evaluation process is straightforward: all that needs to be done is to load\n",
    "the correct answers for the dev set from the provided file (data/devGOLD) and\n",
    "compare them to the matches that were generated by your function.\n",
    "\n",
    "We provide this helper function in util.py (you don't need to modify it, but\n",
    "again we strongly encourage taking a peek at it to make sure that you understand\n",
    "what it's doing).\n",
    "\n",
    "Let's use it to read the gold (correct) matches from the provided file:"
   ]
  },
  {
   "cell_type": "code",
   "execution_count": null,
   "metadata": {
    "pycharm": {
     "name": "#%%\n"
    },
    "tags": [
     "exploration"
    ]
   },
   "outputs": [],
   "source": [
    "all_gold_matches = get_gold('data/devGOLD')\n",
    "print(all_gold_matches)"
   ]
  },
  {
   "cell_type": "markdown",
   "metadata": {
    "pycharm": {
     "name": "#%% md\n"
    }
   },
   "source": [
    "As expected, these exactly match the output format that we showed earlier for\n",
    "the file processing function. This will make it easy to compare our answers\n",
    "to the gold answers.\n",
    "\n",
    "We provide a helper function to do just that in util.py. Given that this\n",
    "function shows you how your method will be scored, it's definitely worth\n",
    "taking a look through."
   ]
  },
  {
   "cell_type": "markdown",
   "metadata": {
    "pycharm": {
     "name": "#%% md\n"
    }
   },
   "source": [
    "Let's try evaluating our existing super-basic method using the above code:"
   ]
  },
  {
   "cell_type": "code",
   "execution_count": null,
   "metadata": {
    "pycharm": {
     "name": "#%%\n"
    },
    "tags": [
     "exploration"
    ]
   },
   "outputs": [],
   "source": [
    "guess_list = process_dir('data/dev', example_process_file)\n",
    "gold_list = get_gold('data/devGOLD')\n",
    "score(guess_list, gold_list)"
   ]
  },
  {
   "cell_type": "markdown",
   "metadata": {
    "pycharm": {
     "name": "#%% md\n"
    }
   },
   "source": [
    "Looks reasonable! It appears that our basic method produced 25 matches,\n",
    "while the gold set contains 117 matches.\n",
    "\n",
    "There were 25 true positives (matches that we found that were in the gold set),\n",
    "no false positives (matches that we found that were NOT in the gold set), and\n",
    "92 false negatives (matches in the gold set that we did NOT find).\n",
    "\n",
    "This seems like a pretty good start, but there are still 92 addresses that our\n",
    "approach didn't manage to catch. Figuring out how to extract these addresses\n",
    "without accidentally matching any non-address text is up to you!\n",
    "\n",
    "You should write your implementation in the function below. Be sure to read the\n",
    "documentation so that you know what sort of inputs/outputs will be expected."
   ]
  },
  {
   "cell_type": "code",
   "execution_count": null,
   "metadata": {
    "pycharm": {
     "name": "#%%\n"
    }
   },
   "outputs": [],
   "source": [
    "# TODO: Implement your approach here!\n",
    "def process_file(filename: str, data_directory: str):\n",
    "    \"\"\"\n",
    "    This function takes in a filename, opens the corresponding file, and\n",
    "    scans its contents against regex patterns. It returns a list of\n",
    "    (filename, type, value) tuples where type is either an 'e' or a 'p'\n",
    "    for e-mail or phone, and value is the formatted phone number or e-mail.\n",
    "    The canonical formats are:\n",
    "         (filename, 'p', '###-###-#####')\n",
    "         (filename, 'e', 'someone@something')\n",
    "    If the numbers you submit are formatted differently they will not\n",
    "    match the gold answers.\n",
    "\n",
    "    NOTE:\n",
    "\n",
    "    NOTE: DO NOT CHANGE THIS INTERFACE, as it will be called directly by\n",
    "    the submit script\n",
    "    \"\"\"\n",
    "    # TODO: Replace/modify this with your implementation\n",
    "    res = []\n",
    "    for l in open(\n",
    "            os.path.join(data_directory, filename),\n",
    "            'r', encoding='ISO-8859-1'):\n",
    "        pass\n",
    "    return res"
   ]
  },
  {
   "cell_type": "markdown",
   "metadata": {},
   "source": [
    "__REMINDER:__ You should strip the \".html\" extension from your filenames\n",
    "when returning your formatted matches.\n",
    "\n",
    "As you work on your methods, you can use the code below to evaluate your\n",
    "performance:"
   ]
  },
  {
   "cell_type": "code",
   "execution_count": null,
   "metadata": {
    "pycharm": {
     "name": "#%%\n"
    },
    "tags": [
     "exploration"
    ]
   },
   "outputs": [],
   "source": [
    "guess_list = process_dir('data/dev', process_file)\n",
    "gold_list = get_gold('data/devGOLD')\n",
    "score(guess_list, gold_list)"
   ]
  },
  {
   "cell_type": "markdown",
   "metadata": {},
   "source": [
    "#### The Spamlord's Environmental Impact\n",
    "\n",
    "Wait! Don’t send that spam email! Like most other tasks involving electricity, sending that little spam email actually releases carbon dioxide into the atmosphere. Each email sent requires not only the electricity you use on your personal device, but also the energy to store and transmit the message through data centers. According to the carbon footprint expert Mike Berners-Lee’s 2010 book <a href=\"http://www.goodreads.com/book/show/7230015-how-bad-are-bananas\"> “How Bad are Bananas: The Carbon Footprint of Everything.”</a>, the average spam email has a carbon footprint equivalent to 0.3 grams of carbon dioxide. Furthermore a normal email has a footprint  of 4 g of carbon dioxide and an email with long attachments can have a carbon footprint of 50g carbon dioxide. \n",
    "\n",
    "It is estimated that globally around <a href=\"https://talosintelligence.com/reputation_center/email_rep?cid=27273&industry=agency&offset=390\"> 120 billion spam emails </a> are sent every day. Calculate the global carbon emission for a day’s worth of spam emails. Provide the answer in tons.\n",
    "\n",
    "Use 1 gram = 1.10231e-6 tons."
   ]
  },
  {
   "cell_type": "code",
   "execution_count": null,
   "metadata": {},
   "outputs": [],
   "source": [
    "def carbon_dioxide_emissions():\n",
    "    # TODO: Replace/modify this so the method returns your solution\n",
    "    carbon_emissions = 0\n",
    "    return carbon_emissions"
   ]
  },
  {
   "cell_type": "markdown",
   "metadata": {},
   "source": [
    "What kind of policies could the government enact to mitigate the quantity of carbon dioxide emitted as a result of spam emails? Who should be responsible for instigating these policies? Please provide a 3-6 sentence response. There is not one correct answer, so please feel free to be creative and share your ideas."
   ]
  },
  {
   "cell_type": "code",
   "execution_count": null,
   "metadata": {},
   "outputs": [],
   "source": [
    "def government_response():\n",
    "    # TODO: Place your response into the response string below\n",
    "    response = \"\"\n",
    "    return response"
   ]
  },
  {
   "cell_type": "markdown",
   "metadata": {
    "pycharm": {
     "name": "#%% md\n"
    }
   },
   "source": [
    "Once you're ready to submit, you can run the cell below to prepare and zip\n",
    "up your solution:"
   ]
  },
  {
   "cell_type": "code",
   "execution_count": null,
   "metadata": {
    "pycharm": {
     "name": "#%%\n"
    },
    "tags": [
     "exploration"
    ]
   },
   "outputs": [],
   "source": [
    "%%bash\n",
    "\n",
    "if [[ ! -f \"./pa1.ipynb\" ]]\n",
    "then\n",
    "    echo \"WARNING: Did not find notebook in Jupyter working directory. This probably means you're running on Google Colab. You'll need to go to File->Download .ipynb to download your notebok and other files, then zip them locally. See the README for more information.\"\n",
    "else\n",
    "    echo \"Found notebook file, creating submission zip...\"\n",
    "    zip -r submission.zip pa1.ipynb deps/\n",
    "fi\n"
   ]
  },
  {
   "cell_type": "markdown",
   "metadata": {
    "pycharm": {
     "name": "#%% md\n"
    }
   },
   "source": [
    "If you're running on Google Colab, see the README for instructions on\n",
    "how to submit.\n",
    "\n",
    "__Best of luck!__\n",
    "\n",
    "__Some reminders for submission:__\n",
    "* If you have any extra files required for your implementation to work, make\n",
    " sure they are in a `deps/` folder on the same level as `pa1.ipynb` and\n",
    " include that folder in your submission zip file.\n",
    " * Make sure you didn't accidentally change the name of your notebook file,\n",
    " (it should be `pa1.ipynb`) as that is required for the autograder to work.\n",
    "* Go to Gradescope (gradescope.com), find the PA1 SpamLord assignment and\n",
    "upload your zip file (`submission.zip`) as your solution.\n",
    "* Wait for the autograder to run (it should only take a minute or so) and check\n",
    "that your submission was graded successfully! If the autograder fails, or you\n",
    "get an unexpected score it may be a sign that your zip file was incorrect."
   ]
  }
 ],
 "metadata": {
  "celltoolbar": "Tags",
  "kernelspec": {
   "display_name": "Python 3",
   "language": "python",
   "name": "python3"
  },
  "language_info": {
   "codemirror_mode": {
    "name": "ipython",
    "version": 3
   },
   "file_extension": ".py",
   "mimetype": "text/x-python",
   "name": "python",
   "nbconvert_exporter": "python",
   "pygments_lexer": "ipython3",
   "version": "3.8.3"
  }
 },
 "nbformat": 4,
 "nbformat_minor": 1
}
